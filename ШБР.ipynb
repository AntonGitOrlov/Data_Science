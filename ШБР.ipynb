{
  "nbformat": 4,
  "nbformat_minor": 0,
  "metadata": {
    "colab": {
      "provenance": [],
      "toc_visible": true,
      "authorship_tag": "ABX9TyNF0WVxH9V5qlRKTxPoGNxH",
      "include_colab_link": true
    },
    "kernelspec": {
      "name": "python3",
      "display_name": "Python 3"
    },
    "language_info": {
      "name": "python"
    }
  },
  "cells": [
    {
      "cell_type": "markdown",
      "metadata": {
        "id": "view-in-github",
        "colab_type": "text"
      },
      "source": [
        "<a href=\"https://colab.research.google.com/github/AntonGitOrlov/Data_Science/blob/main/%D0%A8%D0%91%D0%A0.ipynb\" target=\"_parent\"><img src=\"https://colab.research.google.com/assets/colab-badge.svg\" alt=\"Open In Colab\"/></a>"
      ]
    },
    {
      "cell_type": "markdown",
      "source": [
        "### A+B 1"
      ],
      "metadata": {
        "id": "gx6wpbft8jKJ"
      }
    },
    {
      "cell_type": "code",
      "execution_count": null,
      "metadata": {
        "colab": {
          "base_uri": "https://localhost:8080/"
        },
        "id": "Rd-xOcIY5ioR",
        "outputId": "c4d6131e-831c-47e3-b6e2-1c8811ffbf9c"
      },
      "outputs": [
        {
          "output_type": "stream",
          "name": "stdout",
          "text": [
            "123456789 673243342\n",
            "796700131\n"
          ]
        }
      ],
      "source": [
        "string_of_numbers = input()\n",
        "\n",
        "list_of_numbers = string_of_numbers.split()\n",
        "\n",
        "result = int(list_of_numbers[0]) + int(list_of_numbers[1])\n",
        "\n",
        "print(result)"
      ]
    },
    {
      "cell_type": "markdown",
      "source": [
        "### A+B 2"
      ],
      "metadata": {
        "id": "fCOqfdRq8vyy"
      }
    },
    {
      "cell_type": "code",
      "source": [
        "with open(\"input.txt\") as file:\n",
        "    string_of_numbers = file.read()\n",
        "\n",
        "list_of_numbers = string_of_numbers.split()\n",
        "\n",
        "result = int(list_of_numbers[0]) + int(list_of_numbers[1])\n",
        "\n",
        "with open (\"output.txt\", \"w\") as file:\n",
        "    file.write(str(result))\n",
        "\n",
        "with open(\"output.txt\") as file:\n",
        "    print(file.read())"
      ],
      "metadata": {
        "colab": {
          "base_uri": "https://localhost:8080/"
        },
        "id": "Xw9ZWThM85hR",
        "outputId": "19785c7d-5591-422a-8c0e-b7ed65f173d9"
      },
      "execution_count": null,
      "outputs": [
        {
          "output_type": "stream",
          "name": "stdout",
          "text": [
            "796700131\n"
          ]
        }
      ]
    },
    {
      "cell_type": "markdown",
      "source": [
        "### A+B 3"
      ],
      "metadata": {
        "id": "l1pKxqO88wCq"
      }
    },
    {
      "cell_type": "code",
      "source": [
        "string_of_numbers = input()\n",
        "\n",
        "list_of_numbers = string_of_numbers.split()\n",
        "\n",
        "result = int(list_of_numbers[0]) + int(list_of_numbers[1])\n",
        "\n",
        "print(result)"
      ],
      "metadata": {
        "id": "iXW_Ju5ZCQZw"
      },
      "execution_count": null,
      "outputs": []
    },
    {
      "cell_type": "markdown",
      "source": [
        "### Текстовая задача"
      ],
      "metadata": {
        "id": "zuKW2paV8wP0"
      }
    },
    {
      "cell_type": "code",
      "source": [
        "Earth"
      ],
      "metadata": {
        "id": "utBQYOFdouA5"
      },
      "execution_count": null,
      "outputs": []
    },
    {
      "cell_type": "markdown",
      "source": [
        "### Камни и украшения"
      ],
      "metadata": {
        "id": "qr-sMqHs8wbM"
      }
    },
    {
      "cell_type": "code",
      "source": [
        "j = input()\n",
        "s = input()\n",
        "\n",
        "result = 0\n",
        "for ch in s:\n",
        "    if ch in j:\n",
        "        result += 1\n",
        "\n",
        "print(result)"
      ],
      "metadata": {
        "id": "YY6wj0YCozR6",
        "colab": {
          "base_uri": "https://localhost:8080/"
        },
        "outputId": "b379925e-0e6c-4d17-c2de-a8240e2b826a"
      },
      "execution_count": 13,
      "outputs": [
        {
          "output_type": "stream",
          "name": "stdout",
          "text": [
            "ab\n",
            "aabbccd\n",
            "4\n"
          ]
        }
      ]
    },
    {
      "cell_type": "markdown",
      "source": [
        "### Тестовое задание №1"
      ],
      "metadata": {
        "id": "weKFo-Dz3KXf"
      }
    },
    {
      "cell_type": "markdown",
      "source": [
        "#### Эффективные погрузчики"
      ],
      "metadata": {
        "id": "z72Y1zTv3f4P"
      }
    },
    {
      "cell_type": "code",
      "source": [
        "a = 3\n",
        "b = \"1 1 2\".split()\n",
        "\n",
        "increase = []\n",
        "decrease = []\n",
        "result = 0\n",
        "last = \"\"\n",
        "\n",
        "for i in b:\n",
        "    if i > last:\n",
        "        increase.append(i)\n",
        "        last = i\n",
        "    elif i <= last:\n",
        "        decrease.append(i)\n",
        "        last = i\n",
        "\n",
        "if a % 2 != 0:\n",
        "    increase.pop()\n",
        "\n",
        "if increase == decrease[::-1]:\n",
        "    result = a\n",
        "    if b[0] != b[-1]:\n",
        "        result = len(increase) + len(decrease)\n",
        "\n",
        "print(increase)\n",
        "print(decrease)\n",
        "print(increase == decrease[::-1])\n",
        "print(result)\n"
      ],
      "metadata": {
        "colab": {
          "base_uri": "https://localhost:8080/"
        },
        "id": "guzB_eOB3O24",
        "outputId": "a597ddbf-7a3b-40cf-d1d9-92f6d5a3d794"
      },
      "execution_count": 85,
      "outputs": [
        {
          "output_type": "stream",
          "name": "stdout",
          "text": [
            "['1']\n",
            "['1']\n",
            "True\n",
            "2\n"
          ]
        }
      ]
    },
    {
      "cell_type": "code",
      "source": [
        "a = int(input())\n",
        "b = input().split()\n",
        "\n",
        "increase = []\n",
        "decrease = []\n",
        "result = 0\n",
        "last = \"\"\n",
        "\n",
        "for i in b:\n",
        "    if i > last:\n",
        "        increase.append(i)\n",
        "        last = i\n",
        "    elif i <= last:\n",
        "        decrease.append(i)\n",
        "        last = i\n",
        "\n",
        "if a % 2 != 0:\n",
        "    increase.pop()\n",
        "\n",
        "if increase == decrease[::-1]:\n",
        "    result = a\n",
        "    if b[0] != b[-1]:\n",
        "        result = len(increase) + len(decrease)\n",
        "\n",
        "\n",
        "print(result)"
      ],
      "metadata": {
        "colab": {
          "base_uri": "https://localhost:8080/"
        },
        "id": "qcUsXsq_NsAx",
        "outputId": "ba1721d6-14cb-4f4a-9976-3c4b5db4b308"
      },
      "execution_count": 84,
      "outputs": [
        {
          "output_type": "stream",
          "name": "stdout",
          "text": [
            "3\n",
            "1 1 2\n",
            "2\n"
          ]
        }
      ]
    },
    {
      "cell_type": "markdown",
      "source": [
        "#### А минусы будут?"
      ],
      "metadata": {
        "id": "_PKtLU7ZEVGa"
      }
    },
    {
      "cell_type": "code",
      "source": [
        "def evaluate_expression(s):\n",
        "    def evaluate(i):\n",
        "        res = 0\n",
        "        num = 0\n",
        "        sign = 1\n",
        "        while i < len(s):\n",
        "            c = s[i]\n",
        "            if c == ' ':\n",
        "                i += 1\n",
        "                continue\n",
        "            if c.isdigit():\n",
        "                num = num * 10 + int(c)\n",
        "                i += 1\n",
        "            elif c == '+' or c == '-':\n",
        "                # Обработка унарных операторов\n",
        "                if i + 1 < len(s) and s[i+1] in '+-' and (i == 0 or s[i-1] in '( +-'):\n",
        "                    # Если следующий символ тоже оператор, и это унарный минус/плюс\n",
        "                    if c == '+' and s[i+1] == '-':\n",
        "                        sign *= -1\n",
        "                    elif c == '-' and s[i+1] == '-':\n",
        "                        sign *= 1\n",
        "                    elif c == '-' and s[i+1] == '+':\n",
        "                        sign *= -1\n",
        "                    elif c == '+' and s[i+1] == '+':\n",
        "                        sign *= 1\n",
        "                    i += 2\n",
        "                else:\n",
        "                    res += sign * num\n",
        "                    num = 0\n",
        "                    sign = 1 if c == '+' else -1\n",
        "                    i += 1\n",
        "            elif c == '(':\n",
        "                sub_res, i = evaluate(i + 1)\n",
        "                res += sign * sub_res\n",
        "                sign = 1\n",
        "                num = 0\n",
        "            elif c == ')':\n",
        "                res += sign * num\n",
        "                return res, i + 1\n",
        "        res += sign * num\n",
        "        return res, i\n",
        "\n",
        "    res, _ = evaluate(0)\n",
        "    return res\n",
        "\n",
        "# Чтение входной строки\n",
        "S = input().strip()\n",
        "# Вычисление и вывод результата\n",
        "print(evaluate_expression(S))"
      ],
      "metadata": {
        "colab": {
          "base_uri": "https://localhost:8080/"
        },
        "id": "jFkAX_3KEXi7",
        "outputId": "f3109cb9-4000-455b-cd39-2b8e8608f6b2"
      },
      "execution_count": 48,
      "outputs": [
        {
          "output_type": "stream",
          "name": "stdout",
          "text": [
            "--42\n",
            "42\n"
          ]
        }
      ]
    },
    {
      "cell_type": "code",
      "source": [
        "s = input().strip()\n",
        "i = 0\n",
        "n = len(s)\n",
        "stack = []\n",
        "res = 0\n",
        "num = 0\n",
        "sign = 1\n",
        "\n",
        "while i < n:\n",
        "    c = s[i]\n",
        "    if c == ' ':\n",
        "        i += 1\n",
        "        continue\n",
        "    if c.isdigit():\n",
        "        num = num * 10 + int(c)\n",
        "        i += 1\n",
        "    elif c == '+' or c == '-':\n",
        "        # Обработка унарных операторов\n",
        "        if i + 1 < n and s[i+1] in '+-' and (i == 0 or s[i-1] in '( +-'):\n",
        "            if c == '+' and s[i+1] == '-':\n",
        "                sign *= -1\n",
        "            elif c == '-' and s[i+1] == '-':\n",
        "                sign *= 1\n",
        "            elif c == '-' and s[i+1] == '+':\n",
        "                sign *= -1\n",
        "            elif c == '+' and s[i+1] == '+':\n",
        "                sign *= 1\n",
        "            i += 2\n",
        "        else:\n",
        "            res += sign * num\n",
        "            num = 0\n",
        "            sign = 1 if c == '+' else -1\n",
        "            i += 1\n",
        "    elif c == '(':\n",
        "        stack.append((res, sign))\n",
        "        res = 0\n",
        "        sign = 1\n",
        "        i += 1\n",
        "    elif c == ')':\n",
        "        res += sign * num\n",
        "        num = 0\n",
        "        prev_res, prev_sign = stack.pop()\n",
        "        res = prev_res + prev_sign * res\n",
        "        sign = 1\n",
        "        i += 1\n",
        "\n",
        "res += sign * num\n",
        "print(res)"
      ],
      "metadata": {
        "id": "GJtRUWMeJWQa"
      },
      "execution_count": null,
      "outputs": []
    },
    {
      "cell_type": "code",
      "source": [
        "# Ввод строки с математическим выражением и удаление пробелов по краям\n",
        "s = input().strip()\n",
        "\n",
        "# Инициализация переменных:\n",
        "i = 0          # Указатель текущей позиции в строке\n",
        "n = len(s)      # Длина строки выражения\n",
        "stack = []      # Стек для хранения промежуточных результатов при обработке скобок\n",
        "res = 0         # Аккумулятор итогового результата\n",
        "num = 0         # Текущее накапливаемое число\n",
        "sign = 1        # Текущий знак (+1 или -1)\n",
        "\n",
        "# Основной цикл обработки выражения\n",
        "while i < n:\n",
        "    c = s[i]    # Текущий символ\n",
        "\n",
        "    # Пропускаем пробелы\n",
        "    if c == ' ':\n",
        "        i += 1\n",
        "        continue\n",
        "\n",
        "    # Если символ - цифра\n",
        "    if c.isdigit():\n",
        "        num = num * 10 + int(c)  # Накопление числа (для многозначных чисел)\n",
        "        i += 1\n",
        "\n",
        "    # Если символ - оператор (+ или -)\n",
        "    elif c == '+' or c == '-':\n",
        "        # Проверка на унарный оператор (когда после +- идет еще +- и это начало или после скобки/оператора)\n",
        "        if i + 1 < n and s[i+1] in '+-' and (i == 0 or s[i-1] in '( +-'):\n",
        "            # Обработка комбинаций унарных операторов:\n",
        "            if c == '+' and s[i+1] == '-':  # +- → -\n",
        "                sign *= -1\n",
        "            elif c == '-' and s[i+1] == '-':  # -- → +\n",
        "                sign *= 1\n",
        "            elif c == '-' and s[i+1] == '+':  # -+ → -\n",
        "                sign *= -1\n",
        "            elif c == '+' and s[i+1] == '+':  # ++ → +\n",
        "                sign *= 1\n",
        "            i += 2  # Пропускаем два символа (обработали унарный оператор)\n",
        "        else:\n",
        "            # Бинарный оператор - добавляем накопленное число с текущим знаком к результату\n",
        "            res += sign * num\n",
        "            num = 0          # Сбрасываем накопленное число\n",
        "            sign = 1 if c == '+' else -1  # Устанавливаем новый знак\n",
        "            i += 1\n",
        "\n",
        "    # Если символ - открывающая скобка\n",
        "    elif c == '(':\n",
        "        # Сохраняем текущий результат и знак в стек\n",
        "        stack.append((res, sign))\n",
        "        # Сбрасываем аккумулятор и знак для обработки подвыражения в скобках\n",
        "        res = 0\n",
        "        sign = 1\n",
        "        i += 1\n",
        "\n",
        "    # Если символ - закрывающая скобка\n",
        "    elif c == ')':\n",
        "        # Добавляем последнее число в подвыражении к результату\n",
        "        res += sign * num\n",
        "        num = 0  # Сбрасываем накопленное число\n",
        "        # Достаем из стека предыдущий результат и знак\n",
        "        prev_res, prev_sign = stack.pop()\n",
        "        # Обновляем общий результат с учетом скобок\n",
        "        res = prev_res + prev_sign * res\n",
        "        sign = 1  # Сбрасываем знак\n",
        "        i += 1\n",
        "\n",
        "# Добавляем последнее накопленное число к результату (если оно есть)\n",
        "res += sign * num\n",
        "\n",
        "# Вывод итогового результата\n",
        "print(res)"
      ],
      "metadata": {
        "id": "FrhsrMT3SsDO"
      },
      "execution_count": null,
      "outputs": []
    },
    {
      "cell_type": "markdown",
      "source": [],
      "metadata": {
        "id": "OkjoHXrvrWei"
      }
    },
    {
      "cell_type": "code",
      "source": [
        "def calculate_expected_time(N, E, S):\n",
        "    distance = (S - E) % N\n",
        "    d = min(distance, N - distance)\n",
        "\n",
        "    if d == 0:\n",
        "        return 0.0\n",
        "\n",
        "    E_dict = {0: 0.0}\n",
        "\n",
        "    for current_d in range(1, d + 1):\n",
        "        total = 0.0\n",
        "        count = 0\n",
        "\n",
        "        for step in [-1, 1]:\n",
        "            next_d = current_d + step\n",
        "            if next_d < 0:\n",
        "                next_d = -next_d\n",
        "            if next_d >= N:\n",
        "                next_d = 2 * N - next_d - 2\n",
        "\n",
        "            if next_d in E_dict:\n",
        "                prob = (N - next_d) / N\n",
        "                total += prob * (1 + E_dict[next_d])\n",
        "                count += prob\n",
        "\n",
        "        if count > 0:\n",
        "            E_dict[current_d] = total / count\n",
        "        else:\n",
        "            E_dict[current_d] = 0.0\n",
        "\n",
        "    return E_dict[d]\n",
        "\n",
        "# Чтение входных данных\n",
        "N, E, S = map(int, input().split())\n",
        "\n",
        "# Вычисление результата\n",
        "result = calculate_expected_time(N, E, S)\n",
        "\n",
        "# Форматирование вывода\n",
        "if result == int(result):\n",
        "    print(int(result))\n",
        "else:\n",
        "    # Округляем до 5 знаков и убираем лишние нули\n",
        "    formatted = \"{0:.5f}\".format(result).rstrip('0').rstrip('.') if \"{0:.5f}\".format(result).endswith('0') else \"{0:.5f}\".format(result)\n",
        "    print(formatted)"
      ],
      "metadata": {
        "colab": {
          "base_uri": "https://localhost:8080/"
        },
        "id": "cLdyetUtrWxT",
        "outputId": "34f3a20a-c07a-478f-f42d-a0a700194404"
      },
      "execution_count": 87,
      "outputs": [
        {
          "output_type": "stream",
          "name": "stdout",
          "text": [
            "3 2 1\n",
            "1\n"
          ]
        }
      ]
    }
  ]
}